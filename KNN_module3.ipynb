{
 "cells": [
  {
   "cell_type": "code",
   "execution_count": 15,
   "metadata": {},
   "outputs": [
    {
     "name": "stdout",
     "output_type": "stream",
     "text": [
      "Note: you may need to restart the kernel to use updated packages.\n"
     ]
    },
    {
     "name": "stderr",
     "output_type": "stream",
     "text": [
      "'\"c:\\Users\\THANH TAI\\AppData\\Local\\Programs\\Python\\Python312\\python.exe\"' is not recognized as an internal or external command,\n",
      "operable program or batch file.\n"
     ]
    }
   ],
   "source": [
    "#CODE WOKWI NẰM MÚT DƯỚI CÙNG!!!!!!!!!!!!!!!!!!!!!!!"
   ]
  },
  {
   "cell_type": "code",
   "execution_count": 1,
   "metadata": {},
   "outputs": [
    {
     "name": "stdout",
     "output_type": "stream",
     "text": [
      "WARNING:tensorflow:From c:\\Users\\THANH TAI\\AppData\\Local\\Programs\\Python\\Python311\\Lib\\site-packages\\keras\\src\\losses.py:2976: The name tf.losses.sparse_softmax_cross_entropy is deprecated. Please use tf.compat.v1.losses.sparse_softmax_cross_entropy instead.\n",
      "\n"
     ]
    }
   ],
   "source": [
    "from tensorflow.keras.preprocessing.image import img_to_array\n",
    "from tensorflow.keras.models import load_model\n",
    "import numpy as np\n",
    "import mimetypes\n",
    "import argparse\n",
    "import imutils\n",
    "import pickle\n",
    "import cv2\n",
    "import os\n",
    "from PIL import Image \n"
   ]
  },
  {
   "cell_type": "code",
   "execution_count": 48,
   "metadata": {},
   "outputs": [
    {
     "name": "stdout",
     "output_type": "stream",
     "text": [
      "1/1 [==============================] - 3s 3s/step\n",
      "100.0\n",
      "------\n",
      "beetle\n",
      "------\n",
      "1\n"
     ]
    },
    {
     "name": "stderr",
     "output_type": "stream",
     "text": [
      "C:\\Users\\THANH TAI\\AppData\\Local\\Temp\\ipykernel_25468\\232350072.py:19: DeprecationWarning: Conversion of an array with ndim > 0 to a scalar is deprecated, and will error in future. Ensure you extract a single element from your array before performing this operation. (Deprecated NumPy 1.25.)\n",
      "  accuracy = float(labelPreds[0][i]) * 100\n"
     ]
    }
   ],
   "source": [
    "model = load_model(r'E:\\Nghe\\20004175_VuThanhTai\\output\\20004175_model.h5')\n",
    "from keras.preprocessing.image import img_to_array\n",
    "\n",
    "image_name = r'beetle (419).jpg'\n",
    "folder_path = r'Test images'\n",
    "\n",
    "# Kết hợp đường dẫn thư mục và tên hình ảnh\n",
    "image_path = os.path.join(folder_path, image_name)\n",
    "\n",
    "# Mở hình ảnh\n",
    "image = Image.open(image_path)\n",
    "image = image.resize((112, 112))\n",
    "image = img_to_array(image) / 255.0\n",
    "image = np.expand_dims(image, axis=0)\n",
    "(boxPreds, labelPreds) = model.predict(image)\n",
    "lb = ['beetle', 'grasshopper', 'mango_hopper', 'mango_mealybug', 'moth']\n",
    "i = np.argmax(labelPreds, axis=1)\n",
    "result = lb[np.argmax(labelPreds)]\n",
    "accuracy = float(labelPreds[0][i]) * 100\n",
    "print(accuracy)\n",
    "print(\"------\")\n",
    "print(result)\n",
    "if (result==\"beetle\"):\n",
    "    result = 1\n",
    "if (result==\"grasshopper\"):\n",
    "    result = 2\n",
    "if (result==\"mango_hopper\"):\n",
    "    result = 3\n",
    "if (result==\"mango_mealybug\"):\n",
    "    result = 4\n",
    "if (result==\"moth\"):\n",
    "    result = 5\n",
    "print(\"------\")\n",
    "print(result)"
   ]
  },
  {
   "cell_type": "code",
   "execution_count": 42,
   "metadata": {},
   "outputs": [
    {
     "name": "stdout",
     "output_type": "stream",
     "text": [
      "Ket noi thanh cong\n"
     ]
    }
   ],
   "source": [
    "import mysql.connector\n",
    "db = mysql.connector.connect(\n",
    "  host = \"localhost\",\n",
    "  user = \"root\",\n",
    "  password = \"\",\n",
    "  database = \"plant_disease\"\n",
    ")\n",
    "if db.is_connected():\n",
    "    print(\"Ket noi thanh cong\")\n",
    "cursor = db.cursor()\n"
   ]
  },
  {
   "cell_type": "code",
   "execution_count": 59,
   "metadata": {},
   "outputs": [
    {
     "name": "stdout",
     "output_type": "stream",
     "text": [
      "name : 1\n",
      "status : 1\n"
     ]
    }
   ],
   "source": [
    "import paho.mqtt.client as mqtt\n",
    "sql = f\"SELECT d.name, d.is_danger FROM disease d JOIN images i ON d.id_disease = i.id_disease WHERE i.file_name = '{image_name}'\"\n",
    "cursor.execute(sql)\n",
    "count =  cursor.fetchall()\n",
    "for row in count:\n",
    "    name = row[0]\n",
    "    status = row[1]\n",
    "    print(\"name :\", name)\n",
    "    print(\"status :\", status)\n"
   ]
  },
  {
   "cell_type": "code",
   "execution_count": 68,
   "metadata": {},
   "outputs": [
    {
     "name": "stdout",
     "output_type": "stream",
     "text": [
      "Đã gửi dữ liệu \n"
     ]
    },
    {
     "ename": "TypeError",
     "evalue": "can only concatenate str (not \"int\") to str",
     "output_type": "error",
     "traceback": [
      "\u001b[1;31m---------------------------------------------------------------------------\u001b[0m",
      "\u001b[1;31mTypeError\u001b[0m                                 Traceback (most recent call last)",
      "Cell \u001b[1;32mIn[68], line 18\u001b[0m\n\u001b[0;32m     16\u001b[0m \u001b[38;5;28;01melse\u001b[39;00m:\n\u001b[0;32m     17\u001b[0m      client\u001b[38;5;241m.\u001b[39mpublish(\u001b[38;5;124m\"\u001b[39m\u001b[38;5;124mtai\u001b[39m\u001b[38;5;124m\"\u001b[39m, \u001b[38;5;124m\"\u001b[39m\u001b[38;5;124mnguy hiem\u001b[39m\u001b[38;5;124m\"\u001b[39m)\n\u001b[1;32m---> 18\u001b[0m      client\u001b[38;5;241m.\u001b[39mpublish(\u001b[38;5;124m\"\u001b[39m\u001b[38;5;124mtai\u001b[39m\u001b[38;5;124m\"\u001b[39m, \u001b[38;5;124;43m\"\u001b[39;49m\u001b[38;5;124;43mTT\u001b[39;49m\u001b[38;5;124;43m\"\u001b[39;49m\u001b[43m \u001b[49m\u001b[38;5;241;43m+\u001b[39;49m\u001b[43m \u001b[49m\u001b[43mname\u001b[49m \u001b[38;5;241m+\u001b[39m status)\n",
      "\u001b[1;31mTypeError\u001b[0m: can only concatenate str (not \"int\") to str"
     ]
    }
   ],
   "source": [
    "import paho.mqtt.client as mqtt\n",
    "def on_connect(client, userdata, flags, rc):\n",
    "    if rc == 0:\n",
    "        print(\"Kết nối thành công\")\n",
    "    else:\n",
    "        print(\"Kết nối thất bại\")\n",
    "def on_publish(client, userdata, mid):\n",
    "    print(\"Đã gửi dữ liệu \")\n",
    "\n",
    "client = mqtt.Client()\n",
    "client.on_connect = on_connect\n",
    "client.on_publish = on_publish\n",
    "client.connect(\"broker.emqx.io\", 1883)\n",
    "if status == 0:\n",
    "    client.publish(\"tai\", \"khong nguy hiem\")\n",
    "else:\n",
    "     client.publish(\"tai\", \"nguy hiem\")\n",
    "     client.publish(\"tai\", \"TT\" + name + status)"
   ]
  },
  {
   "cell_type": "code",
   "execution_count": null,
   "metadata": {},
   "outputs": [],
   "source": [
    "#include <WiFi.h>\n",
    "#include <Wire.h>\n",
    "#include <LiquidCrystal_I2C.h>\n",
    "#include <Adafruit_GFX.h>\n",
    "#include <Adafruit_SSD1306.h>\n",
    "#include <ArduinoJson.h>\n",
    "#include <PubSubClient.h>\n",
    "#include \"DHTesp.h\"\n",
    "#define SCREEN_WIDTH 128\n",
    "#define SCREEN_HEIGHT 64\n",
    "\n",
    "Adafruit_SSD1306 oled(SCREEN_WIDTH, SCREEN_HEIGHT, &Wire, -1); //OLED\n",
    "LiquidCrystal_I2C lcd (0x27, 20, 4); //LCD\n",
    "float temp, hum; //2 bien nhiet do, do am\n",
    "const int ledPin = 13; //khai bao chan led\n",
    "const int buzz = 12; //khai bao chan buzzer\n",
    "const int relay = 14; //khai bao chan relay\n",
    "const int ldr = 35; //khai bao chan ldr\n",
    "const int DHT_PIN = 15; //Khai bao chan dht22\n",
    "DHTesp dht;\n",
    "\n",
    "const char * MQTTServer = \"broker.emqx.io\";\n",
    "const char * MQTT_Topic = \"tai\";\n",
    "\n",
    "// Tạo ID ngẫu nhiên tại: https://www.guidgen.com/\n",
    "const char * MQTT_ID = \"\";\n",
    "int Port = 1883;\n",
    "\n",
    "WiFiClient espClient; //Khai bao esp wifi\n",
    "PubSubClient client(espClient);\n",
    "// *Ket noi MQTT\n",
    "void WIFIConnect() {\n",
    "  Serial.println(\"Connecting to SSID: Wokwi-GUEST\");\n",
    "  WiFi.begin(\"Wokwi-GUEST\", \"\");\n",
    "  while (WiFi.status() != WL_CONNECTED) {\n",
    "    delay(500);\n",
    "    Serial.print(\".\");\n",
    "  }\n",
    "  Serial.println(\"\");\n",
    "  Serial.print(\"WiFi connected\");\n",
    "  Serial.print(\", IP address: \");\n",
    "  Serial.println(WiFi.localIP());\n",
    "}\n",
    "\n",
    "void MQTT_Reconnect() {\n",
    "  while (!client.connected()) {\n",
    "    if (client.connect(MQTT_ID)) {\n",
    "      Serial.print(\"MQTT Topic: \");\n",
    "      Serial.print(MQTT_Topic);\n",
    "      Serial.print(\"connected\");\n",
    "      client.subscribe(MQTT_Topic);\n",
    "      Serial.println(\"\");\n",
    "    } else {\n",
    "      Serial.print(\"failed, rc=\");\n",
    "      Serial.print(client.state());\n",
    "      Serial.println(\" try again in 5 seconds\");\n",
    "      delay(5000);\n",
    "    }\n",
    "  }\n",
    "}\n",
    "void callback(char* topic, byte* message, unsigned int length) {\n",
    "  Serial.print(\"Message arrived on topic: \");\n",
    "  Serial.println(topic);\n",
    "  Serial.print(\"Message: \");\n",
    "  String stMessage;\n",
    "\n",
    "  for (int i = 0; i < length; i++) {\n",
    "    Serial.print((char)message[i]);\n",
    "    stMessage += (char)message[i];\n",
    "  }\n",
    "\n",
    "  if (stMessage==\"nguy hiem\")\n",
    "  {\n",
    "    digitalWrite(ledPin, HIGH);\n",
    "    digitalWrite(relay, HIGH);\n",
    "    delay(1000);\n",
    "    digitalWrite(ledPin, LOW);\n",
    "    digitalWrite(relay, LOW);\n",
    "    delay(1000);\n",
    "    tone(buzz,262,1000);\n",
    "    tone(buzz,0,0);\n",
    "    tone(buzz,262,1000);\n",
    "    tone(buzz,0,0);\n",
    "    tone(buzz,262,1000);\n",
    "    tone(buzz,0,0);\n",
    "  }\n",
    "}\n",
    "//*\n",
    "\n",
    "void setup() {\n",
    "  pinMode(ledPin, OUTPUT);\n",
    "  pinMode(buzz, OUTPUT);\n",
    "  pinMode(relay, OUTPUT);\n",
    "\n",
    "  Serial.begin(115200);\n",
    "  WIFIConnect();\n",
    "  client.setServer(MQTTServer, Port);\n",
    "  client.setCallback(callback);\n",
    "  WIFIConnect();\n",
    "  dht.setup(15, DHTesp::DHT22); //Set up loai cam bien la DHT22\n",
    "\n",
    "  // Set up Oled\n",
    "  if (!oled.begin(SSD1306_SWITCHCAPVCC, 0x3C)) {\n",
    "    Serial.println(F(\"failed to start SSD1306 OLED\"));\n",
    "    while (1);\n",
    "  }\n",
    "  //Hien thi tren oled\n",
    "  delay(2000);         // wait two seconds for initializing\n",
    "  oled.clearDisplay(); // clear display\n",
    "  oled.setTextSize(1);         // set text size\n",
    "  oled.setTextColor(WHITE);    // set text color\n",
    "  oled.setCursor(0, 2);       // set position to display (x,y)\n",
    "  // oled.println(\"KNN_Iot_Module_3\"); // set text\n",
    "  oled.display();              // display on OLED\n",
    "  \n",
    "}\n",
    "\n",
    "void loop() {\n",
    "  // tone(buzz,262,1000);\n",
    "  // digitalWrite(ledPin, HIGH);\n",
    "  // digitalWrite(relay, HIGH);\n",
    "  // delay(1000);\n",
    "  // tone(buzz,0,0);\n",
    "  // digitalWrite(ledPin, LOW);\n",
    "  // digitalWrite(relay, LOW);\n",
    "  // delay(1000);\n",
    "\n",
    "  oled.setCursor(0,2);\n",
    "  TempAndHumidity data = dht.getTempAndHumidity();\n",
    "  oled.setTextSize(1);         // set text size\n",
    "  oled.setTextColor(WHITE);\n",
    "  oled.println(\"Temp: \"+String(data.temperature)+\"oC\");\n",
    "  oled.setCursor(0,10);\n",
    "  oled.println(\"Hum: \"+String(data.humidity)+\"%\");\n",
    "  oled.display();\n",
    "\n",
    "  if (!client.connected()) {\n",
    "    MQTT_Reconnect();\n",
    "  }\n",
    "  client.loop();\n",
    "  delay(10); // this speeds up the simulation\n",
    "}\n"
   ]
  }
 ],
 "metadata": {
  "kernelspec": {
   "display_name": "Python 3",
   "language": "python",
   "name": "python3"
  },
  "language_info": {
   "codemirror_mode": {
    "name": "ipython",
    "version": 3
   },
   "file_extension": ".py",
   "mimetype": "text/x-python",
   "name": "python",
   "nbconvert_exporter": "python",
   "pygments_lexer": "ipython3",
   "version": "3.11.7"
  }
 },
 "nbformat": 4,
 "nbformat_minor": 2
}
